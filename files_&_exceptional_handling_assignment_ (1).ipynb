{
  "nbformat": 4,
  "nbformat_minor": 0,
  "metadata": {
    "colab": {
      "provenance": []
    },
    "kernelspec": {
      "name": "python3",
      "display_name": "Python 3"
    },
    "language_info": {
      "name": "python"
    }
  },
  "cells": [
    {
      "cell_type": "markdown",
      "source": [
        "# files & exceptional handling\n"
      ],
      "metadata": {
        "id": "dGL-f_xB5C3Y"
      }
    },
    {
      "cell_type": "markdown",
      "source": [
        "1.What is the difference between interpreted and compiled language?\n",
        "-> The main difference of interpreted and compiled language lies how the source code into translate into mechine code.\n",
        "\n",
        "*compiled - the source code into translate machine code before execution.\n",
        "\n",
        "*interpreted - the source code execute line by line in interpreater."
      ],
      "metadata": {
        "id": "4EhP1FsS5gJq"
      }
    },
    {
      "cell_type": "markdown",
      "source": [
        "2.What is the exception handling in python.\n",
        "\n",
        "-> The exception handling in python in mechanism to gracefull handle the run time error."
      ],
      "metadata": {
        "id": "NMGpQIab8umG"
      }
    },
    {
      "cell_type": "markdown",
      "source": [
        "3.What is the purpose of the finally block in exception handling?\n",
        "\n",
        "-> In exception handling, the finally block is used to define code that should always run, regardless of whether an exception occurred or not.\n",
        "\n",
        "To perform cleanup actions such as closing files, releasing resources, disconnecting from databases, or freeing memory.\n",
        "\n",
        "Ensures that critical finalization code is executed even if an error interrupts the normal flow."
      ],
      "metadata": {
        "id": "EsJYRbkmq22b"
      }
    },
    {
      "cell_type": "markdown",
      "source": [
        "4.what  is logging in python?\n",
        "\n",
        "->In Python, logging is the process of recording messages  about a program’s execution, typically to help with debugging, monitoring, and troubleshooting.\n",
        "\n",
        "Instead of using print() , Python’s logging module provides a flexible way to log messages with different importance levels, and optionally store them in files."
      ],
      "metadata": {
        "id": "9Cw6UivUBtEu"
      }
    },
    {
      "cell_type": "markdown",
      "source": [
        "5. What is the significance of the __del__ method in python?\n",
        "\n",
        "->In Python, the __del__ method is a destructor — it’s automatically called when an object is about to be destroyed .\n",
        "Cleanup tasks\n",
        "\n",
        "Used to release resources (close files, network connections, free memory) when an object’s lifecycle ends.\n",
        "\n",
        "Automatic execution\n",
        "\n",
        "You don’t call __del__() directly; Python calls it when there are no more references to the object."
      ],
      "metadata": {
        "id": "bS7fSOyUBpo9"
      }
    },
    {
      "cell_type": "markdown",
      "source": [
        "6. What is the difference between import and from__import in python ?\n",
        "\n",
        "->The difference between import and from ... import in Python comes down to how you bring in modules or specific objects into your current namespace.\n",
        "\n",
        "import statement\n",
        "Imports the entire module.\n",
        "\n",
        "You must use the module name as a prefix to access its contents.\n",
        "\n",
        "Keeps the namespace cleaner (less risk of name conflicts)."
      ],
      "metadata": {
        "id": "Cxdfzkzgqy96"
      }
    },
    {
      "cell_type": "markdown",
      "source": [
        "7.How can you handle multiple exception in python?\n",
        "\n",
        "->In Python, you can handle multiple exceptions in several ways depending on whether you want to:\n",
        "\n",
        "Handle each exception type separately (different code for different errors)\n",
        "\n",
        "Handle multiple exceptions together."
      ],
      "metadata": {
        "id": "r8KuXiNeGLMd"
      }
    },
    {
      "cell_type": "markdown",
      "source": [
        "8.What is the purpose of the with statement when handling files in python?\n",
        "\n",
        "->The with statement in Python is used to simplify resource management — especially when working with files — by automatically handling setup and cleanup for you.\n",
        "Purpose when handling files:\n",
        "Automatically closes the file when the block finishes, even if an exception occurs.\n",
        "\n",
        "Makes code cleaner and avoids having to manually call file.close().\n",
        "\n",
        "Prevents resource leaks by ensuring proper cleanup.\n"
      ],
      "metadata": {
        "id": "hoXWAeyuGuSI"
      }
    },
    {
      "cell_type": "markdown",
      "source": [
        "9.What is the difference between multithreading and multiprocessing ?\n",
        "\n",
        "->Here’s the difference between multithreading and multiprocessing in Python.\n",
        "\n",
        " Multithreading\n",
        "Definition: Runs multiple threads (smaller units of a process) within the same process.\n",
        "\n",
        "Memory: All threads share the same memory space.\n",
        "\n",
        "Speed: Good for I/O-bound tasks (waiting for input/output), but not very effective for CPU-heavy tasks in Python because of the GIL (Global Interpreter Lock).\n",
        "\n",
        "Overhead: Lower overhead because threads are lightweight.\n",
        "\n",
        "Example use cases: File I/O, network requests, reading/writing to databases."
      ],
      "metadata": {
        "id": "1yzQQJtfHp2o"
      }
    },
    {
      "cell_type": "markdown",
      "source": [
        "10.What are the advantage of using loging in  a program.\n",
        "\n",
        "->1. Better than print() for debugging\n",
        "print() is temporary and must be removed later, while logging can stay in production code.\n",
        "\n",
        "Logging provides more context (time, level, location).\n",
        "\n",
        "2. Records program execution history\n",
        "You can store logs in files for future analysis.\n",
        "\n",
        "Helps track when and where something went wrong."
      ],
      "metadata": {
        "id": "tv3hnttpJCzM"
      }
    },
    {
      "cell_type": "markdown",
      "source": [
        "11.What is memory management in python ?\n",
        "\n",
        "->Memory management in Python is the process of allocating, tracking, and freeing memory used by variables, objects, and data structures during a program’s execution.\n",
        "Python handles most of this automatically, so developers usually don’t need to manage memory manually."
      ],
      "metadata": {
        "id": "Pl9ebI65Jzve"
      }
    },
    {
      "cell_type": "markdown",
      "source": [
        "12.what are the basic steps involved in exception handling in python ?\n",
        "\n",
        "->The basic steps involved in exception handling in Python are."
      ],
      "metadata": {
        "id": "FDJD2ML6Kiyg"
      }
    },
    {
      "cell_type": "code",
      "source": [
        "try:\n",
        "    num = int(input(\"Enter a number: \"))\n",
        "    result = 10 / num\n"
      ],
      "metadata": {
        "id": "TnN7JvKbMntw"
      },
      "execution_count": null,
      "outputs": []
    },
    {
      "cell_type": "code",
      "source": [
        "except ZeroDivisionError:\n",
        "    print(\"You cannot divide by zero!\")\n",
        "except ValueError:\n",
        "    print(\"Invalid number!\")\n"
      ],
      "metadata": {
        "id": "Rq5a-anQMrZp"
      },
      "execution_count": null,
      "outputs": []
    },
    {
      "cell_type": "markdown",
      "source": [
        "13. Why is memory managment important in python?\n",
        "\n",
        "->Memory management is important in Python because it directly affects the performance, stability, and efficiency of your program.\n",
        "\n",
        "Key Reasons\n",
        "1. Prevents memory leaks\n",
        "Without proper memory management, unused objects might stay in memory, slowly eating up resources.\n",
        "\n",
        "Python’s garbage collector helps automatically free memory.\n",
        "\n",
        "2. Improves performance\n",
        "Efficient memory allocation ensures faster execution and avoids unnecessary disk swapping."
      ],
      "metadata": {
        "id": "-alocsbtMvde"
      }
    },
    {
      "cell_type": "markdown",
      "source": [
        "14. What is the role of try and except in exception handling.\n",
        "\n",
        "->In Python’s exception handling, the try and except blocks work together to detect and handle errors without stopping the program unexpectedly.\n",
        "\n",
        "Role of try\n",
        "The try block contains code that might cause an exception.\n",
        "\n",
        "Python executes the code inside try normally.\n",
        "\n",
        "If an error occurs, Python immediately stops running the rest of the try block and jumps to the matching except block."
      ],
      "metadata": {
        "id": "QwaywkpnNb4L"
      }
    },
    {
      "cell_type": "code",
      "source": [
        "try:\n",
        "    num = int(input(\"Enter a number: \"))\n",
        "    result = 10 / num\n"
      ],
      "metadata": {
        "id": "ypZURppiOZ9Z"
      },
      "execution_count": null,
      "outputs": []
    },
    {
      "cell_type": "markdown",
      "source": [
        "Role of except\n",
        "The except block catches and handles the exception.\n",
        "\n",
        "Prevents the program from crashing.\n",
        "\n",
        "Can handle specific exception types (best practice) or all exceptions."
      ],
      "metadata": {
        "id": "1kb5mqszPUn5"
      }
    },
    {
      "cell_type": "code",
      "source": [
        "except ValueError:\n",
        "    print(\"Invalid input! Please enter a number.\")\n",
        "except ZeroDivisionError:\n",
        "    print(\"You cannot divide by zero!\")\n"
      ],
      "metadata": {
        "id": "glFAhuT-PW-A"
      },
      "execution_count": null,
      "outputs": []
    },
    {
      "cell_type": "markdown",
      "source": [
        "15. How does python's garbage collection system work ?\n",
        "\n",
        "-> Python’s garbage collection system works by automatically finding and removing objects that are no longer in use, freeing up memory for other tasks.\n",
        "\n",
        "How it works:\n",
        "1. Reference Counting\n",
        "Every object in Python keeps a count of how many references point to it.\n",
        "\n",
        "When this reference count becomes 0, the object is immediately destroyed and memory is released."
      ],
      "metadata": {
        "id": "iQ1GNTzFOhlF"
      }
    },
    {
      "cell_type": "code",
      "source": [
        "import sys\n",
        "x = [1, 2, 3]\n",
        "print(sys.getrefcount(x))\n",
        "del x\n"
      ],
      "metadata": {
        "id": "X2LA5tA_PyXK"
      },
      "execution_count": null,
      "outputs": []
    },
    {
      "cell_type": "markdown",
      "source": [
        "16.What is the purpose of the else block in exception handling .\n",
        "\n",
        "->In Python’s exception handling, the else block is used to define code that should run only if no exception occurs in the try block.\n",
        "\n",
        "Purpose of else block:\n",
        "Keeps code that should run only on successful execution separate from error-handling code.\n",
        "\n",
        "Improves readability by not mixing “normal” code with try/except.\n",
        "\n",
        "Makes it clear which part executes only when there’s no error."
      ],
      "metadata": {
        "id": "dYivtnPwP5ql"
      }
    },
    {
      "cell_type": "code",
      "source": [
        "try:\n",
        "    # Code that might raise an exception\n",
        "    num = int(input(\"Enter a number: \"))\n",
        "    result = 10 / num\n",
        "except ZeroDivisionError:\n",
        "    print(\"Cannot divide by zero!\")\n",
        "except ValueError:\n",
        "    print(\"Invalid input! Please enter a number.\")\n",
        "else:\n",
        "    # Runs only if try block had NO exception\n",
        "    print(\"Division successful:\", result)\n"
      ],
      "metadata": {
        "id": "Hi9rfhSGQSz1"
      },
      "execution_count": null,
      "outputs": []
    },
    {
      "cell_type": "markdown",
      "source": [
        "17.What are the common logging levels in python?\n",
        "\n",
        "->The common logging levels in Python (from lowest to highest severity) are:\n",
        "\n",
        "Level\tPurpose\n",
        "DEBUG (10)\t Detailed diagnostic information for debugging (used mainly by developers).\n",
        "INFO (20)  \tGeneral messages confirming that things are working as expected.\n",
        "WARNING (30)\t Indicates something unexpected happened or a potential problem, but the program is still running.\n",
        "ERROR (40)\t A serious problem that caused part of the program to fail.\n",
        "CRITICAL (50) \tA very serious error indicating that the program may not  be able to continue running."
      ],
      "metadata": {
        "id": "-PosPRYkQXSy"
      }
    },
    {
      "cell_type": "markdown",
      "source": [
        "18.What is the difference between os.fork() and multiprocessing in python ?\n",
        "\n",
        "->Here’s the difference between os.fork() and multiprocessing in Python.\n",
        "\n",
        "os.fork()\n",
        "Definition: Creates a new process by duplicating the current process (available only on Unix/Linux, not Windows).\n",
        "\n",
        "How it works:\n",
        "The new process (child) is almost an identical copy of the parent.\n",
        "Execution continues in both processes right after the fork() call.\n",
        "Lower-level: You need to manage inter-process communication (IPC) manually.\n",
        "Portability: Not cross-platform — won’t work on Windows.\n",
        "\n",
        "multiprocessing Module\n",
        "Definition: A high-level Python module for creating and managing processes.\n",
        "\n",
        "How it works:\n",
        "\n",
        "Creates independent processes with separate memory spaces.\n",
        "Handles IPC via pipes, queues, and shared memory.\n",
        "Works on both Unix/Linux and Windows.\n",
        "Easier to use: Abstracts OS-level process handling.\n",
        "Portability: Fully cross-platform.\n",
        "\n"
      ],
      "metadata": {
        "id": "PvA46P0qRIj4"
      }
    },
    {
      "cell_type": "markdown",
      "source": [
        "19.what is the importance of closing a file in python?\n",
        "\n",
        "->Closing a file in Python is important because it ensures that system resources are freed and that data is properly saved to the file.\n",
        "\n",
        "1. Saves Data Properly\n",
        "When you write to a file, data is often stored in a buffer first.\n",
        "\n",
        "Closing the file flushes the buffer — ensuring all data is written to disk.\n",
        "\n",
        "2. Frees System Resources\n",
        "Each open file uses system resources like file handles and memory.\n",
        "\n",
        "Not closing files can cause resource leaks, especially if many files are opened.\n",
        "\n",
        "3. Prevents Data Corruption\n",
        "If a program crashes before a file is closed, unsaved data in the buffer may be lost or corrupted."
      ],
      "metadata": {
        "id": "Myhaig2XN38S"
      }
    },
    {
      "cell_type": "markdown",
      "source": [
        "20.what is the difference between file.read() and file.readline() in python?\n",
        "\n",
        "->the difference between file.read() and file.readline() in Python.\n",
        "\n",
        "file.read()\n",
        "Reads the entire file into a single string.\n",
        "If no argument is given, it reads the whole file until the end (EOF).\n",
        "Useful when you want the whole content at once.\n",
        "\n",
        "file.readline()\n",
        "Reads one line at a time from the file.\n",
        "Returns the line as a string including the newline character \\n at the end .\n",
        "Useful for processing large files line-by-line without loading the whole file into memory."
      ],
      "metadata": {
        "id": "r2Qnd-ffOs-I"
      }
    },
    {
      "cell_type": "markdown",
      "source": [
        "21.what is the logging module in python used for?\n",
        "\n",
        "->The logging module in Python is used for recording log messages from a program, which helps in debugging, monitoring, and troubleshooting.\n",
        "\n",
        "Main Purposes of the logging Module\n",
        "Track events during program execution\n",
        "\n",
        "Records what happens in the program at different points.\n",
        "Provide different severity levels\n",
        "DEBUG, INFO, WARNING, ERROR, CRITICAL — lets you control the importance of messages.\n",
        "Output logs to various destinations\n",
        "Console, log files, network, etc.\n",
        "Replace print() for professional debugging\n",
        "Unlike print(), logging can be turned on/off or configured without changing the actual code logic.\n",
        "Store logs for future analysis\n",
        "Helps in finding patterns, understanding errors, and monitoring performance"
      ],
      "metadata": {
        "id": "aFiZbRVWP2t9"
      }
    },
    {
      "cell_type": "markdown",
      "source": [
        "22.what is the os module in python used for in.\n",
        "\n",
        "->The os module in Python is used for interacting with the operating system in a way that is portable across platforms."
      ],
      "metadata": {
        "id": "vobggde3RMoF"
      }
    },
    {
      "cell_type": "markdown",
      "source": [
        "23.what are the challenges associated with memory managment in python?\n",
        "\n",
        "->Garbage Collection Overhead\n",
        "\n",
        "Python’s automatic garbage collector can sometimes run at inconvenient times, causing performance slowdowns.\n",
        "\n",
        "Memory Leaks\n",
        "\n",
        "If objects are referenced unintentionally (e.g., circular references or unused global variables), the garbage collector may not free them, causing memory leaks.\n",
        "\n",
        "High Memory Usage\n",
        "\n",
        "Python objects have additional metadata, so they consume more memory compared to low-level languages like C.\n",
        "\n",
        "Circular References\n",
        "\n",
        "Objects referencing each other can delay or complicate garbage collection.\n",
        "\n",
        "Fragmentation\n",
        "\n",
        "Over time, frequent allocations and deallocations may cause memory fragmentation, reducing efficiency.\n",
        "\n",
        "Large Data Handling\n",
        "\n",
        "Processing very large datasets in memory can lead to memory exhaustion if not optimized .\n",
        "\n",
        "Manual Management in Some Cases\n",
        "\n",
        "While Python automates most memory tasks, developers still need to manage references carefully to avoid leaks and excessive usage."
      ],
      "metadata": {
        "id": "hWp5hds4SLRu"
      }
    },
    {
      "cell_type": "markdown",
      "source": [
        "24. How do you raise an exception manually in python?\n",
        "\n",
        "->Raising an Exception Manually in Python\n",
        "In Python, you can manually raise an exception using the raise statement."
      ],
      "metadata": {
        "id": "phXjghwNTQnC"
      }
    },
    {
      "cell_type": "markdown",
      "source": [
        "25.why is it important to use multithreading in certain application.\n",
        "\n",
        "->Importance of Using Multithreading in Certain Applications\n",
        "Multithreading is important when an application needs to perform multiple tasks concurrently within the same process.\n",
        "\n",
        "Key Reasons:\n",
        "\n",
        "Improved Responsiveness – In GUI or real-time applications, multithreading ensures the interface remains responsive while background tasks run.\n",
        "\n",
        "Concurrent Execution – Multiple tasks  can run in parallel, improving efficiency.\n",
        "\n",
        "Better Resource Utilization – Threads share the same memory space, reducing overhead compared to separate processes.\n",
        "\n",
        "Faster I/O Operations – Useful in I/O-bound tasks  where threads can work while waiting for I/O to complete.\n",
        "\n",
        "Background Processing – Allows running long-running operations in the background without blocking the main thread.\n",
        "\n",
        "Real-Time Data Handling – Essential in applications like chat servers, live dashboards, or game engines where multiple events happen simultaneously."
      ],
      "metadata": {
        "id": "MrVpi5GCUK7H"
      }
    }
  ]
}